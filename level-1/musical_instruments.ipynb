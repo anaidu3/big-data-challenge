{
  "cells": [
    {
      "cell_type": "code",
      "execution_count": null,
      "metadata": {
        "id": "hpx-sgCoTa3m"
      },
      "outputs": [],
      "source": [
        "import os\n",
        "# Find the latest version of spark 3.0  from http://www.apache.org/dist/spark/ and enter as the spark version\n",
        "# For example:\n",
        "spark_version = 'spark-3.3.0'\n",
        "# spark_version = 'spark-3.<enter version>'\n",
        "os.environ['SPARK_VERSION']=spark_version\n",
        "\n",
        "# Install Spark and Java\n",
        "!apt-get update\n",
        "!apt-get install openjdk-8-jdk-headless -qq > /dev/null\n",
        "!wget -q http://www.apache.org/dist/spark/$SPARK_VERSION/$SPARK_VERSION-bin-hadoop3.tgz\n",
        "!tar xf $SPARK_VERSION-bin-hadoop3.tgz\n",
        "!pip install -q findspark\n",
        "\n",
        "# Set Environment Variables\n",
        "os.environ[\"JAVA_HOME\"] = \"/usr/lib/jvm/java-8-openjdk-amd64\"\n",
        "os.environ[\"SPARK_HOME\"] = f\"/content/{spark_version}-bin-hadoop3\"\n",
        "\n",
        "# Start a SparkSession\n",
        "import findspark\n",
        "findspark.init()"
      ]
    },
    {
      "cell_type": "code",
      "execution_count": null,
      "metadata": {
        "id": "Bpyxzaw3z3Zf"
      },
      "outputs": [],
      "source": [
        "!wget https://jdbc.postgresql.org/download/postgresql-42.2.9.jar"
      ]
    },
    {
      "cell_type": "code",
      "execution_count": null,
      "metadata": {
        "id": "jFo1cpboWvfa"
      },
      "outputs": [],
      "source": [
        "from pyspark.sql import SparkSession\n",
        "spark = SparkSession.builder.appName(\"musical_instruments\").config(\"spark.driver.extraClassPath\",\"/content/postgresql-42.2.9.jar\").getOrCreate()"
      ]
    },
    {
      "cell_type": "code",
      "execution_count": null,
      "metadata": {
        "id": "TXXnNr0HWwfi"
      },
      "outputs": [],
      "source": [
        "# Read in data from S3 Buckets\n",
        "from pyspark import SparkFiles\n",
        "url=\"https://anaidu3.s3.amazonaws.com/amazon_reviews_us_Musical_Instruments_v1_00.tsv.gz\" \n",
        "spark.sparkContext.addFile(url)\n",
        "musical_instrument_data_df = spark.read.csv(SparkFiles.get(\"amazon_reviews_us_Musical_Instruments_v1_00.tsv.gz\"), sep='\\t', header=True, inferSchema=True)\n",
        "\n",
        "# Show DataFrame\n",
        "musical_instrument_data_df.show()"
      ]
    },
    {
      "cell_type": "code",
      "execution_count": null,
      "metadata": {
        "colab": {
          "base_uri": "https://localhost:8080/"
        },
        "id": "4N2EeO_8AgKZ",
        "outputId": "2dc0ad17-b743-4764-f3de-5512e3de85fc"
      },
      "outputs": [
        {
          "data": {
            "text/plain": [
              "904765"
            ]
          },
          "execution_count": 5,
          "metadata": {},
          "output_type": "execute_result"
        }
      ],
      "source": [
        "customer_count = musical_instrument_data_df.count()\n",
        "customer_count"
      ]
    },
    {
      "cell_type": "code",
      "execution_count": null,
      "metadata": {
        "id": "fcyW3rgACbBg"
      },
      "outputs": [],
      "source": [
        "review_id= musical_instrument_data_df.select([\"review_id\", \"customer_id\", \"product_id\", \"product_parent\",\"review_date\"])\n",
        "review_id.show()"
      ]
    },
    {
      "cell_type": "code",
      "execution_count": null,
      "metadata": {
        "id": "RR3THMjs_wND"
      },
      "outputs": [],
      "source": [
        "product_df= musical_instrument_data_df.select([\"product_id\", \"product_title\"])\n",
        "product_df.show()"
      ]
    },
    {
      "cell_type": "code",
      "execution_count": null,
      "metadata": {
        "id": "RSKstvBaJ3gg"
      },
      "outputs": [],
      "source": [
        "from pyspark.sql.functions import row_number,lit\n",
        "from pyspark.sql.window import Window"
      ]
    },
    {
      "cell_type": "code",
      "execution_count": null,
      "metadata": {
        "id": "UKDSbpWTJ8CG"
      },
      "outputs": [],
      "source": [
        "w = Window().orderBy(lit('A'))\n",
        "musical_instrument_data_df = musical_instrument_data_df.withColumn(\"row_num\", row_number().over(w))\n",
        "musical_instrument_data_df.show()"
      ]
    },
    {
      "cell_type": "code",
      "execution_count": null,
      "metadata": {
        "id": "k8MYthanKFPm"
      },
      "outputs": [],
      "source": [
        "musical_instrument_data_df = musical_instrument_data_df.withColumnRenamed(\"row_num\",\"customer_count\")"
      ]
    },
    {
      "cell_type": "code",
      "execution_count": null,
      "metadata": {
        "id": "gQITNBjVKMHm"
      },
      "outputs": [],
      "source": [
        "customer_df= musical_instrument_data_df.select([\"customer_id\", \"customer_count\"])\n",
        "customer_df.show()"
      ]
    },
    {
      "cell_type": "code",
      "execution_count": null,
      "metadata": {
        "id": "sjo9qVwcKTX-"
      },
      "outputs": [],
      "source": [
        "vine= musical_instrument_data_df.select([\"review_id\", \"star_rating\", \"helpful_votes\", \"total_votes\",\"vine\"])\n",
        "vine.show()"
      ]
    },
    {
      "cell_type": "code",
      "execution_count": null,
      "metadata": {
        "id": "-H9s3ju7K7-W"
      },
      "outputs": [],
      "source": [
        "# Configure settings for RDS\n",
        "mode = \"append\"\n",
        "jdbc_url=\"jdbc:postgresql://endpoint:5432/music_data\"\n",
        "config = {\"user\":\"postgres\", \n",
        "          \"password\": \"\", \n",
        "          \"driver\":\"org.postgresql.Driver\"}"
      ]
    },
    {
      "cell_type": "code",
      "execution_count": null,
      "metadata": {
        "id": "ng1_4I2MLLt-"
      },
      "outputs": [],
      "source": [
        "# Write DataFrame to review_id table in RDS\n",
        "\n",
        "review_id.write.jdbc(url=jdbc_url, table='review_id_table', mode=mode, properties=config)"
      ]
    },
    {
      "cell_type": "code",
      "execution_count": null,
      "metadata": {
        "id": "6nArGwjYUbOT"
      },
      "outputs": [],
      "source": [
        "# Write dataframe to products table in RDS\n",
        "\n",
        "product_df.write.jdbc(url=jdbc_url, table='products', mode=mode, properties=config)"
      ]
    },
    {
      "cell_type": "code",
      "execution_count": null,
      "metadata": {
        "id": "WK2IrGAcUemz"
      },
      "outputs": [],
      "source": [
        "# Write dataframe to customers table in RDS\n",
        "\n",
        "customer_df.write.jdbc(url=jdbc_url, table='customers', mode=mode, properties=config)"
      ]
    },
    {
      "cell_type": "code",
      "execution_count": null,
      "metadata": {
        "id": "Lq4JbeF_VRAC"
      },
      "outputs": [],
      "source": [
        "# Write dataframe to vine_table table in RDS\n",
        "\n",
        "vine.write.jdbc(url=jdbc_url, table='vine_table', mode=mode, properties=config)"
      ]
    }
  ],
  "metadata": {
    "colab": {
      "collapsed_sections": [],
      "name": "musical_instruments",
      "provenance": []
    },
    "kernelspec": {
      "display_name": "Python 3",
      "name": "python3"
    },
    "language_info": {
      "name": "python"
    }
  },
  "nbformat": 4,
  "nbformat_minor": 0
}
